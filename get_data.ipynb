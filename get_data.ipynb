{
 "cells": [
  {
   "cell_type": "code",
   "execution_count": 1,
   "id": "83712349",
   "metadata": {},
   "outputs": [],
   "source": [
    "import requests"
   ]
  },
  {
   "cell_type": "markdown",
   "id": "9c86e6dd",
   "metadata": {},
   "source": [
    "import requests\n",
    "\n",
    "API_KEY = \"a8179b40e985bec43f257da1621fd429a7af4ddd892dc0345fa1ada008002fe5\"\n",
    "BASE_URL = \"https://apitcg.com/api/one-piece/cards\"\n",
    "headers = {\"x-api-key\": API_KEY}\n",
    "\n",
    "r = requests.get(BASE_URL, headers=headers, params={\"page\": 1, \"limit\": 100})\n",
    "r.raise_for_status()\n",
    "data = r.json()\n",
    "\n",
    "total = data[\"total\"]\n",
    "limit = data[\"limit\"]          # 100\n",
    "total_pages = data[\"totalPages\"]\n",
    "\n",
    "print(f\"total={total}, limit={limit}, total_pages={total_pages}\")\n",
    "print(f\"cartas_recibidas_ahora={len(data['data'])}\")\n"
   ]
  },
  {
   "cell_type": "markdown",
   "id": "75a86c1e",
   "metadata": {},
   "source": [
    "import requests\n",
    "\n",
    "API_KEY = \"TU_API_KEY\"  # Reemplaza con tu API Key válida\n",
    "BASE_URL = \"https://apitcg.com/api/one-piece/cards\"\n",
    "headers = {\"x-api-key\": API_KEY}\n",
    "\n",
    "todos_los_datos = []   # Lista para acumular todas las cartas\n",
    "pagina = 1\n",
    "limite = 100           # Máximo de cartas por página (valor máximo permitido es 100)\n",
    "\n",
    "while True:\n",
    "    params = {\"page\": pagina, \"limit\": limite}\n",
    "    resp = requests.get(BASE_URL, headers=headers, params=params)\n",
    "    data = resp.json()\n",
    "    \n",
    "    # Verificamos que la respuesta contenga datos de cartas\n",
    "    if \"data\" not in data:\n",
    "        print(f\"Error en la respuesta de la API: {data}\")\n",
    "        break\n",
    "    \n",
    "    cartas = data[\"data\"]\n",
    "    todos_los_datos.extend(cartas)  # Añadimos las cartas de esta página a la lista total\n",
    "    \n",
    "    print(f\"Página {pagina} recuperada, {len(cartas)} cartas obtenidas.\")\n",
    "    \n",
    "    # Si hemos alcanzado la última página, salimos del bucle\n",
    "    total_paginas = data.get(\"totalPages\", 1)\n",
    "    if pagina >= total_paginas:\n",
    "        break\n",
    "    \n",
    "    pagina += 1\n",
    "\n",
    "print(f\"\\nSe obtuvieron {len(todos_los_datos)} cartas en total.\")\n",
    "\n",
    "# Ejemplo: Mostrar los campos principales de la primera carta obtenida\n",
    "if todos_los_datos:\n",
    "    carta = todos_los_datos[0]\n",
    "    print(\"Ejemplo - Primera carta:\")\n",
    "    print(f\"Nombre: {carta.get('name')}\")\n",
    "    print(f\"Color: {carta.get('color')}\")\n",
    "    print(f\"Tipo: {carta.get('type')}\")\n",
    "    print(f\"Coste: {carta.get('cost')}\")\n",
    "    print(f\"Poder: {carta.get('power')}\")\n",
    "    print(f\"Efecto: {carta.get('ability')}\")\n"
   ]
  },
  {
   "cell_type": "code",
   "execution_count": 3,
   "id": "120c5f0a",
   "metadata": {},
   "outputs": [
    {
     "data": {
      "text/plain": [
       "[{'set_name': 'Romance Dawn', 'set_id': 'OP-01'},\n",
       " {'set_name': 'Paramount War', 'set_id': 'OP-02'},\n",
       " {'set_name': 'Pillars of Strength', 'set_id': 'OP-03'},\n",
       " {'set_name': 'Kingdoms of Intrigue', 'set_id': 'OP-04'},\n",
       " {'set_name': 'Awakening of the New Era', 'set_id': 'OP-05'},\n",
       " {'set_name': 'Wings of the Captain', 'set_id': 'OP-06'},\n",
       " {'set_name': '500 Years in the Future', 'set_id': 'OP-07'},\n",
       " {'set_name': 'Extra Booster: Memorial Collection', 'set_id': 'EB-01'},\n",
       " {'set_name': 'Two Legends', 'set_id': 'OP-08'},\n",
       " {'set_name': 'Emperors in the New World', 'set_id': 'OP-09'},\n",
       " {'set_name': 'Royal Blood', 'set_id': 'OP-10'},\n",
       " {'set_name': 'A Fist of Divine Speed', 'set_id': 'OP-11'},\n",
       " {'set_name': 'Extra Booster: Anime 25th Collection', 'set_id': 'EB-02'},\n",
       " {'set_name': 'Legacy of the Master', 'set_id': 'OP-12'}]"
      ]
     },
     "execution_count": 3,
     "metadata": {},
     "output_type": "execute_result"
    }
   ],
   "source": [
    "response_text"
   ]
  },
  {
   "cell_type": "code",
   "execution_count": null,
   "id": "f099ca3a",
   "metadata": {},
   "outputs": [],
   "source": []
  }
 ],
 "metadata": {
  "kernelspec": {
   "display_name": "misc",
   "language": "python",
   "name": "python3"
  },
  "language_info": {
   "codemirror_mode": {
    "name": "ipython",
    "version": 3
   },
   "file_extension": ".py",
   "mimetype": "text/x-python",
   "name": "python",
   "nbconvert_exporter": "python",
   "pygments_lexer": "ipython3",
   "version": "3.13.5"
  }
 },
 "nbformat": 4,
 "nbformat_minor": 5
}
