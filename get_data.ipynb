{
 "cells": [
  {
   "cell_type": "code",
   "execution_count": null,
   "id": "83712349",
   "metadata": {},
   "outputs": [],
   "source": [
    "import os\n",
    "from pathlib import Path\n",
    "\n",
    "import requests\n",
    "\n",
    "def load_env(path: str = \".env\") -> None:\n",
    "    env_path = Path(path)\n",
    "    if not env_path.exists():\n",
    "        return\n",
    "    for line in env_path.read_text(encoding=\"utf-8\").splitlines():\n",
    "        line = line.strip()\n",
    "        if not line or line.startswith(\"#\") or \"=\" not in line:\n",
    "            continue\n",
    "        key, value = line.split(\"=\", 1)\n",
    "        os.environ.setdefault(key, value)\n",
    "\n",
    "load_env()\n",
    "\n",
    "API_KEY = os.getenv(\"APITCG_API_KEY\")\n",
    "if not API_KEY:\n",
    "    raise RuntimeError(\"Missing APITCG_API_KEY environment variable.\")\n",
    "\n",
    "BASE_URL = \"https://apitcg.com/api/one-piece/cards\"\n",
    "HEADERS = {\"x-api-key\": API_KEY}\n"
   ]
  },
  {
   "cell_type": "code",
   "id": "9c86e6dd",
   "metadata": {},
   "source": [
    "params = {\"page\": 1, \"limit\": 100}\n",
    "response = requests.get(BASE_URL, headers=HEADERS, params=params, timeout=10)\n",
    "response.raise_for_status()\n",
    "first_page_data = response.json()\n",
    "\n",
    "total = first_page_data[\"total\"]\n",
    "limit = first_page_data[\"limit\"]\n",
    "total_pages = first_page_data[\"totalPages\"]\n",
    "\n",
    "print(f\"total={total}, limit={limit}, total_pages={total_pages}\")\n",
    "print(f\"cartas_recibidas_ahora={len(first_page_data['data'])}\")\n"
   ],
   "execution_count": null,
   "outputs": []
  },
  {
   "cell_type": "code",
   "id": "75a86c1e",
   "metadata": {},
   "source": [
    "todos_los_datos = list(first_page_data.get(\"data\", []))\n",
    "print(f\"P�gina 1 recuperada, {len(todos_los_datos)} cartas obtenidas.\")\n",
    "\n",
    "for page in range(2, total_pages + 1):\n",
    "    params = {\"page\": page, \"limit\": limit}\n",
    "    response = requests.get(BASE_URL, headers=HEADERS, params=params, timeout=10)\n",
    "    response.raise_for_status()\n",
    "    payload = response.json()\n",
    "\n",
    "    cartas = payload.get(\"data\", [])\n",
    "    if not cartas:\n",
    "        print(f\"Respuesta sin cartas en la p�gina {page}: {payload}\")\n",
    "        break\n",
    "\n",
    "    todos_los_datos.extend(cartas)\n",
    "    print(f\"P�gina {page} recuperada, {len(cartas)} cartas obtenidas.\")\n",
    "\n",
    "print(f\"\nSe obtuvieron {len(todos_los_datos)} cartas en total.\")\n",
    "\n",
    "if todos_los_datos:\n",
    "    carta = todos_los_datos[0]\n",
    "    print(\"Ejemplo - Primera carta:\")\n",
    "    print(f\"Nombre: {carta.get('name')}\")\n",
    "    print(f\"Color: {carta.get('color')}\")\n",
    "    print(f\"Tipo: {carta.get('type')}\")\n",
    "    print(f\"Coste: {carta.get('cost')}\")\n",
    "    print(f\"Poder: {carta.get('power')}\")\n",
    "    print(f\"Efecto: {carta.get('ability')}\")\n"
   ],
   "execution_count": null,
   "outputs": []
  },
  {
   "cell_type": "code",
   "execution_count": 3,
   "id": "120c5f0a",
   "metadata": {},
   "outputs": [
    {
     "data": {
      "text/plain": [
       "[{'set_name': 'Romance Dawn', 'set_id': 'OP-01'},\n",
       " {'set_name': 'Paramount War', 'set_id': 'OP-02'},\n",
       " {'set_name': 'Pillars of Strength', 'set_id': 'OP-03'},\n",
       " {'set_name': 'Kingdoms of Intrigue', 'set_id': 'OP-04'},\n",
       " {'set_name': 'Awakening of the New Era', 'set_id': 'OP-05'},\n",
       " {'set_name': 'Wings of the Captain', 'set_id': 'OP-06'},\n",
       " {'set_name': '500 Years in the Future', 'set_id': 'OP-07'},\n",
       " {'set_name': 'Extra Booster: Memorial Collection', 'set_id': 'EB-01'},\n",
       " {'set_name': 'Two Legends', 'set_id': 'OP-08'},\n",
       " {'set_name': 'Emperors in the New World', 'set_id': 'OP-09'},\n",
       " {'set_name': 'Royal Blood', 'set_id': 'OP-10'},\n",
       " {'set_name': 'A Fist of Divine Speed', 'set_id': 'OP-11'},\n",
       " {'set_name': 'Extra Booster: Anime 25th Collection', 'set_id': 'EB-02'},\n",
       " {'set_name': 'Legacy of the Master', 'set_id': 'OP-12'}]"
      ]
     },
     "execution_count": 3,
     "metadata": {},
     "output_type": "execute_result"
    }
   ],
   "source": [
    "response_text"
   ]
  },
  {
   "cell_type": "code",
   "execution_count": null,
   "id": "f099ca3a",
   "metadata": {},
   "outputs": [],
   "source": []
  }
 ],
 "metadata": {
  "kernelspec": {
   "display_name": "misc",
   "language": "python",
   "name": "python3"
  },
  "language_info": {
   "codemirror_mode": {
    "name": "ipython",
    "version": 3
   },
   "file_extension": ".py",
   "mimetype": "text/x-python",
   "name": "python",
   "nbconvert_exporter": "python",
   "pygments_lexer": "ipython3",
   "version": "3.13.5"
  }
 },
 "nbformat": 4,
 "nbformat_minor": 5
}